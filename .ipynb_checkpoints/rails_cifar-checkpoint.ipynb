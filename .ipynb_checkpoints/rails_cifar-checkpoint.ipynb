{
 "cells": [
  {
   "cell_type": "code",
   "execution_count": 1,
   "metadata": {},
   "outputs": [
    {
     "name": "stdout",
     "output_type": "stream",
     "text": [
      "Files already downloaded and verified\n",
      "Files already downloaded and verified\n",
      "Clean accuracy is 0.8759999871253967.\n",
      "Adversarial accuracy (CNN) is 0.32199999690055847.\n"
     ]
    }
   ],
   "source": [
    "import torch\n",
    "import torch.nn as nn\n",
    "from collections import deque\n",
    "import numpy as np\n",
    "from torchvision import datasets, transforms\n",
    "from torch.utils.data import DataLoader\n",
    "from models.VGG import VGG\n",
    "from pgd import PGD\n",
    "import matplotlib.pyplot as plt\n",
    "\n",
    "# if importing\n",
    "from rails import RAILS\n",
    "from aise import AISE\n",
    "\n",
    "\n",
    "CIFAR_CONFIGS = {\n",
    "    \"start_layer\": 1,\n",
    "    \"n_class\": 10,\n",
    "    \"aise_params\": [\n",
    "        {\"hidden_layer\": 2, \"sampling_temperature\": 1, \"max_generation\": 10, \"mut_range\": (.005, .015)},\n",
    "        {\"hidden_layer\": 3, \"sampling_temperature\": 10, \"max_generation\": 5, \"mut_range\": (.005, .015)}\n",
    "    ]\n",
    "}\n",
    "\n",
    "ROOT = \"./datasets\"\n",
    "TRANSFORM = transforms.ToTensor()\n",
    "DEVICE = torch.device(\"cuda\" if torch.cuda.is_available() else \"cpu\")\n",
    "train_data = datasets.CIFAR10(root=ROOT, download=True, train=True, transform=TRANSFORM)\n",
    "test_data = datasets.CIFAR10(root=ROOT, download=True, train=False, transform=TRANSFORM)\n",
    "#     train_loader = DataLoader(train_data, batch_size=256, shuffle=True)\n",
    "#     test_loader = DataLoader(test_data, batch_size=1024, shuffle=False)\n",
    "\n",
    "x_train = (torch.FloatTensor(train_data.data[:50000])/255).permute(0,3,1,2)\n",
    "y_train = torch.LongTensor(train_data.targets[:50000])\n",
    "\n",
    "model = VGG()\n",
    "model.load_state_dict(torch.load(\n",
    "    \"./model_weights/cifar_vgg16.pt\", map_location=DEVICE\n",
    ")['state_dict'])\n",
    "model.eval()\n",
    "\n",
    "pgd = PGD(eps=8/255,step=2/255,max_iter=10, batch_size=256)\n",
    "\n",
    "x_batch = (torch.FloatTensor(test_data.data[:1000])/255).permute(0,3,1,2)\n",
    "y_batch = torch.LongTensor(test_data.targets[:1000])\n",
    "\n",
    "x_adv = pgd.generate(model, x_batch, y_batch, device=DEVICE)\n",
    "\n",
    "pred_clean = model(x_batch.to(DEVICE))[-1].max(dim=1)[1].detach().cpu()\n",
    "clean_acc = (pred_clean == y_batch).float().mean().item()\n",
    "print(\"Clean accuracy is {}.\".format(clean_acc))\n",
    "\n",
    "pred_adv = model(x_adv.to(DEVICE))[-1].max(dim=1)[1].detach().cpu()\n",
    "adv_acc = (pred_adv == y_batch).float().mean().item()\n",
    "print(\"Adversarial accuracy (CNN) is {}.\".format(adv_acc))"
   ]
  },
  {
   "cell_type": "code",
   "execution_count": 2,
   "metadata": {},
   "outputs": [],
   "source": [
    "# %%timeit\n",
    "# \"\"\"\n",
    "# rails constructor execution time\n",
    "# \"\"\"\n",
    "\n",
    "# rails = RAILS(model, CIFAR_CONFIGS, x_train, y_train)"
   ]
  },
  {
   "cell_type": "code",
   "execution_count": 3,
   "metadata": {},
   "outputs": [
    {
     "data": {
      "text/plain": [
       "'\\nload the memory profiler \\n'"
      ]
     },
     "execution_count": 3,
     "metadata": {},
     "output_type": "execute_result"
    }
   ],
   "source": [
    "%load_ext line_profiler\n",
    "\"\"\"\n",
    "load the line profiler\n",
    "\"\"\"\n",
    "\n",
    "\n",
    "%load_ext memory_profiler\n",
    "\"\"\"\n",
    "load the memory profiler \n",
    "\"\"\""
   ]
  },
  {
   "cell_type": "code",
   "execution_count": 17,
   "metadata": {},
   "outputs": [
    {
     "name": "stdout",
     "output_type": "stream",
     "text": [
      " "
     ]
    },
    {
     "data": {
      "text/plain": [
       "         3 function calls in 0.000 seconds\n",
       "\n",
       "   Ordered by: internal time\n",
       "\n",
       "   ncalls  tottime  percall  cumtime  percall filename:lineno(function)\n",
       "        1    0.000    0.000    0.000    0.000 {built-in method builtins.exec}\n",
       "        1    0.000    0.000    0.000    0.000 <string>:1(<module>)\n",
       "        1    0.000    0.000    0.000    0.000 {method 'disable' of '_lsprof.Profiler' objects}"
      ]
     },
     "metadata": {},
     "output_type": "display_data"
    }
   ],
   "source": [
    "\"\"\"\n",
    "rails constructor line by line profiling\n",
    "\"\"\"\n",
    "    \n",
    "%prun \n",
    "\n",
    "rails = RAILS(model, CIFAR_CONFIGS, x_train, y_train)"
   ]
  },
  {
   "cell_type": "code",
   "execution_count": 26,
   "metadata": {},
   "outputs": [
    {
     "data": {
      "text/plain": [
       "Timer unit: 1e-06 s\n",
       "\n",
       "Total time: 293.685 s\n",
       "File: /home/cstansbu/RAILS/rails.py\n",
       "Function: predict at line 73\n",
       "\n",
       "Line #      Hits         Time  Per Hit   % Time  Line Contents\n",
       "==============================================================\n",
       "    73                                               def predict(self, x):\n",
       "    74         1         26.0     26.0      0.0          with torch.no_grad():\n",
       "    75         3      53097.0  17699.0      0.0              x_start = torch.cat([\n",
       "    76                                                           self._model.to_start(x[i:i + self.batch_size].to(DEVICE)).cpu()\n",
       "    77         1          8.0      8.0      0.0                  for i in range(0, x.size(0), self.batch_size)\n",
       "    78         1          2.0      2.0      0.0              ], dim=0)\n",
       "    79         1         22.0     22.0      0.0          pred = np.zeros((x_start.size(0), self.n_class))\n",
       "    80         3         21.0      7.0      0.0          for aise in self.aises:\n",
       "    81         2  293631642.0 146815821.0    100.0              pred = pred + aise(x_start)\n",
       "    82         1          1.0      1.0      0.0          return pred"
      ]
     },
     "metadata": {},
     "output_type": "display_data"
    }
   ],
   "source": [
    "\"\"\"\n",
    "rails predict\n",
    "\"\"\"\n",
    "    \n",
    "%lprun -f rails.predict rails.predict(x_adv.to(DEVICE)).argmax(axis=1)\n",
    "\n"
   ]
  },
  {
   "cell_type": "code",
   "execution_count": null,
   "metadata": {},
   "outputs": [],
   "source": [
    "\"\"\"\n",
    "aise profile\n",
    "\"\"\"\n",
    "\n",
    "\n",
    "\n"
   ]
  }
 ],
 "metadata": {
  "kernelspec": {
   "display_name": "Python 3",
   "language": "python",
   "name": "python3"
  },
  "language_info": {
   "codemirror_mode": {
    "name": "ipython",
    "version": 3
   },
   "file_extension": ".py",
   "mimetype": "text/x-python",
   "name": "python",
   "nbconvert_exporter": "python",
   "pygments_lexer": "ipython3",
   "version": "3.8.3"
  }
 },
 "nbformat": 4,
 "nbformat_minor": 4
}
